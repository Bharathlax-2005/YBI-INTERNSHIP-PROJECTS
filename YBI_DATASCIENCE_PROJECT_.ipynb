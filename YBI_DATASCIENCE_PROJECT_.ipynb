{
  "nbformat": 4,
  "nbformat_minor": 0,
  "metadata": {
    "colab": {
      "provenance": [],
      "authorship_tag": "ABX9TyOBw+Q6JaPo9q4sDQpOOxjY",
      "include_colab_link": true
    },
    "kernelspec": {
      "name": "python3",
      "display_name": "Python 3"
    },
    "language_info": {
      "name": "python"
    }
  },
  "cells": [
    {
      "cell_type": "markdown",
      "metadata": {
        "id": "view-in-github",
        "colab_type": "text"
      },
      "source": [
        "<a href=\"https://colab.research.google.com/github/Bharathlax-2005/YBI-INTERNSHIP-PROJECTS/blob/main/YBI_DATASCIENCE_PROJECT_.ipynb\" target=\"_parent\"><img src=\"https://colab.research.google.com/assets/colab-badge.svg\" alt=\"Open In Colab\"/></a>"
      ]
    },
    {
      "cell_type": "markdown",
      "source": [
        "DATASCIENCE PROJECT \n"
      ],
      "metadata": {
        "id": "FdPjvVIiKDi7"
      }
    },
    {
      "cell_type": "markdown",
      "source": [
        "HAND WRITTING DIGITAL PREDICTION -- CLASSIFICATION ANALAYSIS"
      ],
      "metadata": {
        "id": "H6qj81bTKIoV"
      }
    },
    {
      "cell_type": "markdown",
      "source": [
        "IMPORT LIBRARY"
      ],
      "metadata": {
        "id": "E_r-vsyPKuMz"
      }
    },
    {
      "cell_type": "code",
      "execution_count": 1,
      "metadata": {
        "id": "EQiMe_ScJ41F"
      },
      "outputs": [],
      "source": [
        "import pandas as pd"
      ]
    },
    {
      "cell_type": "code",
      "source": [
        "import numpy as np"
      ],
      "metadata": {
        "id": "NlxgCP3dKeBT"
      },
      "execution_count": 2,
      "outputs": []
    },
    {
      "cell_type": "code",
      "source": [
        "import matplotlib.pyplot as plt"
      ],
      "metadata": {
        "id": "JDlokWP0Khmp"
      },
      "execution_count": 3,
      "outputs": []
    },
    {
      "cell_type": "markdown",
      "source": [
        "IMPORT DATA"
      ],
      "metadata": {
        "id": "1Q_jvpSTKtZl"
      }
    },
    {
      "cell_type": "code",
      "source": [
        "from sklearn.datasets import load_digits"
      ],
      "metadata": {
        "id": "TC4fhrgCKr7a"
      },
      "execution_count": 5,
      "outputs": []
    },
    {
      "cell_type": "code",
      "source": [
        "df = load_digits()"
      ],
      "metadata": {
        "id": "GoQFVAiSK5FU"
      },
      "execution_count": 6,
      "outputs": []
    },
    {
      "cell_type": "code",
      "source": [
        "_, axes =plt.subplots (nrows=1, ncols=4, figsize=(10, 3))\n",
        "for ax, image, label in zip(axes, df. images, df.target):\n",
        "  ax.set_axis_off()\n",
        "  ax.imshow(image, cmap=plt.cm.gray_r, interpolation=\"nearest\")\n",
        "  ax.set_title(\"Training:%i\"%label)"
      ],
      "metadata": {
        "colab": {
          "base_uri": "https://localhost:8080/",
          "height": 227
        },
        "id": "fwtQsbluLAZQ",
        "outputId": "b5396830-3450-4ac9-ca46-dcfd66ad80d7"
      },
      "execution_count": 13,
      "outputs": [
        {
          "output_type": "display_data",
          "data": {
            "text/plain": [
              "<Figure size 1000x300 with 4 Axes>"
            ],
            "image/png": "[encoded data removed]"
          },
          "metadata": {}
        }
      ]
    },
    {
      "cell_type": "code",
      "source": [
        "df.images.shape"
      ],
      "metadata": {
        "colab": {
          "base_uri": "https://localhost:8080/"
        },
        "id": "xG4m6PePMIl4",
        "outputId": "70e73689-8734-400e-acca-3bf1196b9698"
      },
      "execution_count": 15,
      "outputs": [
        {
          "output_type": "execute_result",
          "data": {
            "text/plain": [
              "(1797, 8, 8)"
            ]
          },
          "metadata": {},
          "execution_count": 15
        }
      ]
    },
    {
      "cell_type": "code",
      "source": [
        "df.images[0]"
      ],
      "metadata": {
        "colab": {
          "base_uri": "https://localhost:8080/"
        },
        "id": "RflJCvR0O1x2",
        "outputId": "7e1911cd-c14b-489f-a4db-2147100fc5a9"
      },
      "execution_count": 17,
      "outputs": [
        {
          "output_type": "execute_result",
          "data": {
            "text/plain": [
              "array([[ 0.,  0.,  5., 13.,  9.,  1.,  0.,  0.],\n",
              "       [ 0.,  0., 13., 15., 10., 15.,  5.,  0.],\n",
              "       [ 0.,  3., 15.,  2.,  0., 11.,  8.,  0.],\n",
              "       [ 0.,  4., 12.,  0.,  0.,  8.,  8.,  0.],\n",
              "       [ 0.,  5.,  8.,  0.,  0.,  9.,  8.,  0.],\n",
              "       [ 0.,  4., 11.,  0.,  1., 12.,  7.,  0.],\n",
              "       [ 0.,  2., 14.,  5., 10., 12.,  0.,  0.],\n",
              "       [ 0.,  0.,  6., 13., 10.,  0.,  0.,  0.]])"
            ]
          },
          "metadata": {},
          "execution_count": 17
        }
      ]
    },
    {
      "cell_type": "code",
      "source": [
        "df.images[0].shape"
      ],
      "metadata": {
        "colab": {
          "base_uri": "https://localhost:8080/"
        },
        "id": "ZhDkF5l7RGqb",
        "outputId": "9201943a-8bd1-47ab-bb98-149acdadfa2e"
      },
      "execution_count": 19,
      "outputs": [
        {
          "output_type": "execute_result",
          "data": {
            "text/plain": [
              "(8, 8)"
            ]
          },
          "metadata": {},
          "execution_count": 19
        }
      ]
    },
    {
      "cell_type": "code",
      "source": [
        "len(df.images)"
      ],
      "metadata": {
        "colab": {
          "base_uri": "https://localhost:8080/"
        },
        "id": "ZcBheNARRTnb",
        "outputId": "e113bb19-b7f9-44a7-ce3a-dfc70d15534c"
      },
      "execution_count": 20,
      "outputs": [
        {
          "output_type": "execute_result",
          "data": {
            "text/plain": [
              "1797"
            ]
          },
          "metadata": {},
          "execution_count": 20
        }
      ]
    },
    {
      "cell_type": "code",
      "source": [
        "n_samples = len(df.images)\n",
        "data =df.images.reshape((n_samples,-1))"
      ],
      "metadata": {
        "id": "XNarJ6U1Rh-X"
      },
      "execution_count": 22,
      "outputs": []
    },
    {
      "cell_type": "code",
      "source": [
        "data[0]"
      ],
      "metadata": {
        "colab": {
          "base_uri": "https://localhost:8080/"
        },
        "id": "6PpxtlfvR4U7",
        "outputId": "bb731d11-1a81-46c0-f77c-9b83cce24f60"
      },
      "execution_count": 23,
      "outputs": [
        {
          "output_type": "execute_result",
          "data": {
            "text/plain": [
              "array([ 0.,  0.,  5., 13.,  9.,  1.,  0.,  0.,  0.,  0., 13., 15., 10.,\n",
              "       15.,  5.,  0.,  0.,  3., 15.,  2.,  0., 11.,  8.,  0.,  0.,  4.,\n",
              "       12.,  0.,  0.,  8.,  8.,  0.,  0.,  5.,  8.,  0.,  0.,  9.,  8.,\n",
              "        0.,  0.,  4., 11.,  0.,  1., 12.,  7.,  0.,  0.,  2., 14.,  5.,\n",
              "       10., 12.,  0.,  0.,  0.,  0.,  6., 13., 10.,  0.,  0.,  0.])"
            ]
          },
          "metadata": {},
          "execution_count": 23
        }
      ]
    },
    {
      "cell_type": "code",
      "source": [
        "data[0].shape"
      ],
      "metadata": {
        "colab": {
          "base_uri": "https://localhost:8080/"
        },
        "id": "9N_yBIwPSEXf",
        "outputId": "25e32764-ab31-4670-d527-8ecb9a06b04f"
      },
      "execution_count": 24,
      "outputs": [
        {
          "output_type": "execute_result",
          "data": {
            "text/plain": [
              "(64,)"
            ]
          },
          "metadata": {},
          "execution_count": 24
        }
      ]
    },
    {
      "cell_type": "code",
      "source": [
        "data.shape"
      ],
      "metadata": {
        "colab": {
          "base_uri": "https://localhost:8080/"
        },
        "id": "UHhqvyuKSIqN",
        "outputId": "5d6db4a8-61da-4d6f-cc75-6910c57b200f"
      },
      "execution_count": 25,
      "outputs": [
        {
          "output_type": "execute_result",
          "data": {
            "text/plain": [
              "(1797, 64)"
            ]
          },
          "metadata": {},
          "execution_count": 25
        }
      ]
    },
    {
      "cell_type": "markdown",
      "source": [
        "SCALING IMAGE DATA"
      ],
      "metadata": {
        "id": "PvfOmuArSOuA"
      }
    },
    {
      "cell_type": "code",
      "source": [
        "data.min()"
      ],
      "metadata": {
        "colab": {
          "base_uri": "https://localhost:8080/"
        },
        "id": "-FXgryXrSM6X",
        "outputId": "d1dffc73-64a3-4168-c1d8-2b8f0720f188"
      },
      "execution_count": 26,
      "outputs": [
        {
          "output_type": "execute_result",
          "data": {
            "text/plain": [
              "0.0"
            ]
          },
          "metadata": {},
          "execution_count": 26
        }
      ]
    },
    {
      "cell_type": "code",
      "source": [
        "data.max"
      ],
      "metadata": {
        "colab": {
          "base_uri": "https://localhost:8080/"
        },
        "id": "ergpvZZcSWxX",
        "outputId": "2e73026e-e6e0-4649-fda4-739531b6d7b5"
      },
      "execution_count": 27,
      "outputs": [
        {
          "output_type": "execute_result",
          "data": {
            "text/plain": [
              "<function ndarray.max>"
            ]
          },
          "metadata": {},
          "execution_count": 27
        }
      ]
    },
    {
      "cell_type": "code",
      "source": [
        "data=data/16"
      ],
      "metadata": {
        "id": "K63yO1xNSYZB"
      },
      "execution_count": 28,
      "outputs": []
    },
    {
      "cell_type": "code",
      "source": [
        "data.min()"
      ],
      "metadata": {
        "colab": {
          "base_uri": "https://localhost:8080/"
        },
        "id": "Qki9fw-XSc__",
        "outputId": "8dd64d2f-0196-4a9b-d58c-1928eb22bf51"
      },
      "execution_count": 30,
      "outputs": [
        {
          "output_type": "execute_result",
          "data": {
            "text/plain": [
              "0.0"
            ]
          },
          "metadata": {},
          "execution_count": 30
        }
      ]
    },
    {
      "cell_type": "code",
      "source": [
        "data.max()"
      ],
      "metadata": {
        "colab": {
          "base_uri": "https://localhost:8080/"
        },
        "id": "BtuwBICdSezh",
        "outputId": "0cb3390c-a4ac-4acc-f6f5-7dbcad3146e5"
      },
      "execution_count": 31,
      "outputs": [
        {
          "output_type": "execute_result",
          "data": {
            "text/plain": [
              "1.0"
            ]
          },
          "metadata": {},
          "execution_count": 31
        }
      ]
    },
    {
      "cell_type": "code",
      "source": [
        "data[0]"
      ],
      "metadata": {
        "colab": {
          "base_uri": "https://localhost:8080/"
        },
        "id": "7sf2pp49Si5_",
        "outputId": "d84dcb4e-bf44-40c5-b52c-58a675dec428"
      },
      "execution_count": 32,
      "outputs": [
        {
          "output_type": "execute_result",
          "data": {
            "text/plain": [
              "array([0.    , 0.    , 0.3125, 0.8125, 0.5625, 0.0625, 0.    , 0.    ,\n",
              "       0.    , 0.    , 0.8125, 0.9375, 0.625 , 0.9375, 0.3125, 0.    ,\n",
              "       0.    , 0.1875, 0.9375, 0.125 , 0.    , 0.6875, 0.5   , 0.    ,\n",
              "       0.    , 0.25  , 0.75  , 0.    , 0.    , 0.5   , 0.5   , 0.    ,\n",
              "       0.    , 0.3125, 0.5   , 0.    , 0.    , 0.5625, 0.5   , 0.    ,\n",
              "       0.    , 0.25  , 0.6875, 0.    , 0.0625, 0.75  , 0.4375, 0.    ,\n",
              "       0.    , 0.125 , 0.875 , 0.3125, 0.625 , 0.75  , 0.    , 0.    ,\n",
              "       0.    , 0.    , 0.375 , 0.8125, 0.625 , 0.    , 0.    , 0.    ])"
            ]
          },
          "metadata": {},
          "execution_count": 32
        }
      ]
    },
    {
      "cell_type": "markdown",
      "source": [
        "TRAIN TEST SPLIT DATA"
      ],
      "metadata": {
        "id": "50shY4miSsrt"
      }
    },
    {
      "cell_type": "code",
      "source": [
        "from sklearn.model_selection import train_test_split"
      ],
      "metadata": {
        "id": "v9vG_rr5SrYl"
      },
      "execution_count": 33,
      "outputs": []
    },
    {
      "cell_type": "code",
      "source": [
        "x_train,x_test,y_train,y_test = train_test_split(data,df.target,test_size=0.3)"
      ],
      "metadata": {
        "id": "-NnzrzCPTexi"
      },
      "execution_count": 35,
      "outputs": []
    },
    {
      "cell_type": "code",
      "source": [
        "x_train.shape, x_test.shape, y_train.shape,y_test.shape"
      ],
      "metadata": {
        "colab": {
          "base_uri": "https://localhost:8080/"
        },
        "id": "bUeUy8npS6tc",
        "outputId": "f75670ae-40cb-4fbc-ed29-6649e3f8745c"
      },
      "execution_count": 36,
      "outputs": [
        {
          "output_type": "execute_result",
          "data": {
            "text/plain": [
              "((1257, 64), (540, 64), (1257,), (540,))"
            ]
          },
          "metadata": {},
          "execution_count": 36
        }
      ]
    },
    {
      "cell_type": "markdown",
      "source": [
        "RANDOM FOREST MODEL"
      ],
      "metadata": {
        "id": "8_70w5dVT8uZ"
      }
    },
    {
      "cell_type": "code",
      "source": [
        "from sklearn.ensemble import RandomForestClassifier"
      ],
      "metadata": {
        "id": "VIF-G3v_TdzY"
      },
      "execution_count": 37,
      "outputs": []
    },
    {
      "cell_type": "code",
      "source": [
        "rf = RandomForestClassifier()"
      ],
      "metadata": {
        "id": "USxkMo0jUQLm"
      },
      "execution_count": 39,
      "outputs": []
    },
    {
      "cell_type": "code",
      "source": [
        "rf.fit(x_train,y_train)"
      ],
      "metadata": {
        "colab": {
          "base_uri": "https://localhost:8080/",
          "height": 74
        },
        "id": "S7QQu4UWVDpQ",
        "outputId": "5068487b-e9aa-42bf-e538-1c07d202417f"
      },
      "execution_count": 40,
      "outputs": [
        {
          "output_type": "execute_result",
          "data": {
            "text/plain": [
              "RandomForestClassifier()"
            ],
            "text/html": [
              "<style>#sk-container-id-1 {color: black;background-color: white;}#sk-container-id-1 pre{padding: 0;}#sk-container-id-1 div.sk-toggleable {background-color: white;}#sk-container-id-1 label.sk-toggleable__label {cursor: pointer;display: block;width: 100%;margin-bottom: 0;padding: 0.3em;box-sizing: border-box;text-align: center;}#sk-container-id-1 label.sk-toggleable__label-arrow:before {content: \"▸\";float: left;margin-right: 0.25em;color: #696969;}#sk-container-id-1 label.sk-toggleable__label-arrow:hover:before {color: black;}#sk-container-id-1 div.sk-estimator:hover label.sk-toggleable__label-arrow:before {color: black;}#sk-container-id-1 div.sk-toggleable__content {max-height: 0;max-width: 0;overflow: hidden;text-align: left;background-color: #f0f8ff;}#sk-container-id-1 div.sk-toggleable__content pre {margin: 0.2em;color: black;border-radius: 0.25em;background-color: #f0f8ff;}#sk-container-id-1 input.sk-toggleable__control:checked~div.sk-toggleable__content {max-height: 200px;max-width: 100%;overflow: auto;}#sk-container-id-1 input.sk-toggleable__control:checked~label.sk-toggleable__label-arrow:before {content: \"▾\";}#sk-container-id-1 div.sk-estimator input.sk-toggleable__control:checked~label.sk-toggleable__label {background-color: #d4ebff;}#sk-container-id-1 div.sk-label input.sk-toggleable__control:checked~label.sk-toggleable__label {background-color: #d4ebff;}#sk-container-id-1 input.sk-hidden--visually {border: 0;clip: rect(1px 1px 1px 1px);clip: rect(1px, 1px, 1px, 1px);height: 1px;margin: -1px;overflow: hidden;padding: 0;position: absolute;width: 1px;}#sk-container-id-1 div.sk-estimator {font-family: monospace;background-color: #f0f8ff;border: 1px dotted black;border-radius: 0.25em;box-sizing: border-box;margin-bottom: 0.5em;}#sk-container-id-1 div.sk-estimator:hover {background-color: #d4ebff;}#sk-container-id-1 div.sk-parallel-item::after {content: \"\";width: 100%;border-bottom: 1px solid gray;flex-grow: 1;}#sk-container-id-1 div.sk-label:hover label.sk-toggleable__label {background-color: #d4ebff;}#sk-container-id-1 div.sk-serial::before {content: \"\";position: absolute;border-left: 1px solid gray;box-sizing: border-box;top: 0;bottom: 0;left: 50%;z-index: 0;}#sk-container-id-1 div.sk-serial {display: flex;flex-direction: column;align-items: center;background-color: white;padding-right: 0.2em;padding-left: 0.2em;position: relative;}#sk-container-id-1 div.sk-item {position: relative;z-index: 1;}#sk-container-id-1 div.sk-parallel {display: flex;align-items: stretch;justify-content: center;background-color: white;position: relative;}#sk-container-id-1 div.sk-item::before, #sk-container-id-1 div.sk-parallel-item::before {content: \"\";position: absolute;border-left: 1px solid gray;box-sizing: border-box;top: 0;bottom: 0;left: 50%;z-index: -1;}#sk-container-id-1 div.sk-parallel-item {display: flex;flex-direction: column;z-index: 1;position: relative;background-color: white;}#sk-container-id-1 div.sk-parallel-item:first-child::after {align-self: flex-end;width: 50%;}#sk-container-id-1 div.sk-parallel-item:last-child::after {align-self: flex-start;width: 50%;}#sk-container-id-1 div.sk-parallel-item:only-child::after {width: 0;}#sk-container-id-1 div.sk-dashed-wrapped {border: 1px dashed gray;margin: 0 0.4em 0.5em 0.4em;box-sizing: border-box;padding-bottom: 0.4em;background-color: white;}#sk-container-id-1 div.sk-label label {font-family: monospace;font-weight: bold;display: inline-block;line-height: 1.2em;}#sk-container-id-1 div.sk-label-container {text-align: center;}#sk-container-id-1 div.sk-container {/* jupyter's `normalize.less` sets `[hidden] { display: none; }` but bootstrap.min.css set `[hidden] { display: none !important; }` so we also need the `!important` here to be able to override the default hidden behavior on the sphinx rendered scikit-learn.org. See: https://github.com/scikit-learn/scikit-learn/issues/21755 */display: inline-block !important;position: relative;}#sk-container-id-1 div.sk-text-repr-fallback {display: none;}</style><div id=\"sk-container-id-1\" class=\"sk-top-container\"><div class=\"sk-text-repr-fallback\"><pre>RandomForestClassifier()</pre><b>In a Jupyter environment, please rerun this cell to show the HTML representation or trust the notebook. <br />On GitHub, the HTML representation is unable to render, please try loading this page with nbviewer.org.</b></div><div class=\"sk-container\" hidden><div class=\"sk-item\"><div class=\"sk-estimator sk-toggleable\"><input class=\"sk-toggleable__control sk-hidden--visually\" id=\"sk-estimator-id-1\" type=\"checkbox\" checked><label for=\"sk-estimator-id-1\" class=\"sk-toggleable__label sk-toggleable__label-arrow\">RandomForestClassifier</label><div class=\"sk-toggleable__content\"><pre>RandomForestClassifier()</pre></div></div></div></div></div>"
            ]
          },
          "metadata": {},
          "execution_count": 40
        }
      ]
    },
    {
      "cell_type": "markdown",
      "source": [
        "PREDICT TEST CLASSIFER"
      ],
      "metadata": {
        "id": "JqQY7FRdVaRe"
      }
    },
    {
      "cell_type": "code",
      "source": [
        "y_pred=rf.predict(x_test)"
      ],
      "metadata": {
        "id": "mWn214dsVVNU"
      },
      "execution_count": 41,
      "outputs": []
    },
    {
      "cell_type": "code",
      "source": [
        "y_pred"
      ],
      "metadata": {
        "colab": {
          "base_uri": "https://localhost:8080/"
        },
        "id": "nwK36KcDVzKF",
        "outputId": "369365d9-0ccd-4af0-f42e-f2e16205d1a9"
      },
      "execution_count": 42,
      "outputs": [
        {
          "output_type": "execute_result",
          "data": {
            "text/plain": [
              "array([7, 3, 3, 4, 6, 9, 5, 2, 3, 0, 3, 5, 0, 0, 4, 5, 7, 4, 2, 1, 4, 0,\n",
              "       4, 7, 0, 9, 4, 1, 1, 7, 1, 1, 3, 6, 5, 8, 6, 4, 0, 3, 2, 5, 2, 8,\n",
              "       1, 0, 0, 1, 7, 6, 2, 6, 6, 3, 2, 1, 3, 1, 3, 7, 1, 9, 8, 8, 2, 8,\n",
              "       1, 4, 2, 3, 4, 7, 5, 4, 5, 2, 4, 0, 8, 5, 1, 8, 6, 1, 7, 1, 6, 1,\n",
              "       4, 5, 4, 2, 9, 8, 7, 8, 7, 6, 3, 9, 6, 3, 7, 5, 8, 5, 3, 4, 7, 0,\n",
              "       1, 6, 7, 0, 7, 9, 4, 6, 5, 9, 6, 0, 7, 2, 7, 4, 8, 7, 2, 8, 5, 8,\n",
              "       4, 4, 2, 7, 2, 6, 5, 3, 8, 6, 8, 1, 5, 5, 3, 9, 9, 5, 9, 5, 1, 1,\n",
              "       3, 3, 4, 9, 6, 5, 0, 4, 3, 6, 2, 8, 7, 2, 0, 3, 2, 9, 7, 3, 9, 5,\n",
              "       8, 6, 5, 0, 9, 6, 4, 8, 3, 9, 6, 2, 0, 2, 5, 0, 1, 5, 1, 6, 1, 0,\n",
              "       5, 9, 7, 7, 7, 7, 4, 5, 9, 4, 6, 6, 9, 7, 1, 6, 9, 7, 3, 1, 8, 5,\n",
              "       0, 3, 0, 3, 5, 6, 1, 4, 0, 1, 9, 7, 0, 3, 8, 0, 7, 2, 8, 6, 2, 4,\n",
              "       5, 6, 3, 8, 4, 1, 3, 2, 7, 9, 6, 8, 3, 8, 3, 7, 6, 9, 2, 7, 1, 5,\n",
              "       0, 4, 7, 3, 9, 0, 9, 0, 0, 1, 4, 8, 5, 1, 3, 3, 2, 2, 4, 7, 7, 3,\n",
              "       8, 2, 8, 9, 8, 6, 1, 6, 6, 6, 4, 8, 3, 8, 7, 7, 3, 0, 6, 1, 6, 4,\n",
              "       5, 8, 3, 3, 6, 0, 7, 7, 5, 1, 5, 0, 7, 1, 2, 3, 2, 7, 5, 1, 1, 5,\n",
              "       7, 5, 3, 9, 5, 1, 1, 3, 7, 8, 8, 0, 7, 7, 8, 2, 3, 0, 9, 1, 9, 1,\n",
              "       9, 8, 2, 4, 7, 7, 8, 9, 1, 5, 2, 6, 7, 0, 3, 6, 7, 3, 6, 6, 1, 6,\n",
              "       7, 4, 6, 3, 2, 4, 4, 1, 6, 8, 1, 6, 2, 2, 3, 9, 4, 4, 6, 1, 9, 6,\n",
              "       9, 6, 0, 9, 9, 1, 7, 3, 5, 2, 1, 5, 5, 1, 1, 7, 0, 3, 6, 6, 8, 5,\n",
              "       4, 0, 7, 1, 3, 1, 0, 7, 2, 8, 7, 6, 6, 4, 6, 0, 5, 4, 2, 6, 9, 9,\n",
              "       5, 3, 5, 4, 9, 9, 8, 5, 3, 9, 2, 6, 1, 2, 3, 9, 3, 5, 4, 7, 4, 9,\n",
              "       6, 5, 3, 6, 4, 1, 8, 0, 8, 9, 4, 2, 1, 5, 7, 9, 3, 4, 5, 6, 5, 4,\n",
              "       8, 4, 4, 2, 8, 4, 3, 0, 3, 0, 6, 5, 8, 5, 2, 2, 9, 3, 0, 1, 9, 6,\n",
              "       4, 4, 6, 3, 5, 9, 2, 6, 0, 4, 9, 6, 2, 2, 1, 7, 0, 1, 9, 9, 7, 2,\n",
              "       2, 8, 8, 4, 6, 5, 8, 9, 8, 9, 5, 0])"
            ]
          },
          "metadata": {},
          "execution_count": 42
        }
      ]
    },
    {
      "cell_type": "code",
      "source": [
        "from sklearn.metrics import confusion_matrix, classification_report"
      ],
      "metadata": {
        "id": "OV4L8ojrV1bD"
      },
      "execution_count": 44,
      "outputs": []
    },
    {
      "cell_type": "code",
      "source": [
        "confusion_matrix(y_test,y_pred)"
      ],
      "metadata": {
        "colab": {
          "base_uri": "https://localhost:8080/"
        },
        "id": "JlloZC1jWP7e",
        "outputId": "4ebeca4c-3855-4fa2-fa64-f37057f114e4"
      },
      "execution_count": 45,
      "outputs": [
        {
          "output_type": "execute_result",
          "data": {
            "text/plain": [
              "array([[44,  0,  0,  0,  0,  0,  0,  0,  0,  0],\n",
              "       [ 0, 57,  0,  0,  0,  0,  0,  0,  0,  0],\n",
              "       [ 0,  0, 48,  0,  0,  0,  0,  0,  0,  1],\n",
              "       [ 0,  0,  0, 57,  0,  2,  0,  1,  1,  0],\n",
              "       [ 0,  0,  0,  0, 53,  0,  0,  1,  0,  0],\n",
              "       [ 0,  0,  0,  0,  0, 53,  0,  0,  0,  0],\n",
              "       [ 1,  0,  0,  0,  1,  1, 63,  0,  1,  0],\n",
              "       [ 0,  0,  0,  0,  0,  0,  0, 52,  1,  0],\n",
              "       [ 0,  0,  0,  1,  0,  0,  0,  0, 46,  0],\n",
              "       [ 0,  0,  0,  0,  0,  0,  0,  4,  0, 51]])"
            ]
          },
          "metadata": {},
          "execution_count": 45
        }
      ]
    },
    {
      "cell_type": "code",
      "source": [
        "print(confusion_matrix(y_test,y_pred))"
      ],
      "metadata": {
        "colab": {
          "base_uri": "https://localhost:8080/"
        },
        "id": "mgtqKNYqWp-e",
        "outputId": "3985472e-3cfd-4fe4-e6c2-b8a59d3454fb"
      },
      "execution_count": 46,
      "outputs": [
        {
          "output_type": "stream",
          "name": "stdout",
          "text": [
            "[[44  0  0  0  0  0  0  0  0  0]\n",
            " [ 0 57  0  0  0  0  0  0  0  0]\n",
            " [ 0  0 48  0  0  0  0  0  0  1]\n",
            " [ 0  0  0 57  0  2  0  1  1  0]\n",
            " [ 0  0  0  0 53  0  0  1  0  0]\n",
            " [ 0  0  0  0  0 53  0  0  0  0]\n",
            " [ 1  0  0  0  1  1 63  0  1  0]\n",
            " [ 0  0  0  0  0  0  0 52  1  0]\n",
            " [ 0  0  0  1  0  0  0  0 46  0]\n",
            " [ 0  0  0  0  0  0  0  4  0 51]]\n"
          ]
        }
      ]
    },
    {
      "cell_type": "code",
      "source": [],
      "metadata": {
        "id": "Hd99oWRRWv8C"
      },
      "execution_count": null,
      "outputs": []
    }
  ]
}